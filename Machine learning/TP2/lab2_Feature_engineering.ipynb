{
  "cells": [
    {
      "cell_type": "markdown",
      "metadata": {
        "id": "xWLWMzTA35Jp"
      },
      "source": [
        "<img style=\"float: left; padding-right: 10px; width: 45px\" src=\"https://upload.wikimedia.org/wikipedia/fr/b/b1/Logo_EPF.png?raw=true\"> \n",
        "\n",
        "**Introduction to Machine Learning - P2025: Energy & Environment**\n",
        "\n",
        "## Lab 2:  Feature engineering\n",
        "*Credits*: Adapted from MDE's \"Intro to ML\" course by Y. Idrissi and I. Chafai.\n",
        "\n",
        "**First name:**\n",
        "\n",
        "**Last name:**\n",
        "\n",
        "**Group:**\n",
        "\n",
        "\n",
        "---"
      ]
    },
    {
      "cell_type": "markdown",
      "metadata": {},
      "source": [
        "# Introduction\n",
        "During your project, you will work on a Kaggle challenge. To start off, you are going to practice with their \"tutorial\" challenge: the [Titanic data](https://www.kaggle.com/competitions/titanic).\n",
        "\n",
        "Here is the **challenge definition** given by Kaggle:\n",
        "\n",
        ">The sinking of the Titanic is one of the most infamous shipwrecks in history.  \n",
        ">On April 15, 1912, during her maiden voyage, the widely considered “unsinkable” RMS Titanic sank after colliding with an iceberg. Unfortunately, there weren’t enough lifeboats for everyone onboard, resulting in the death of 1502 out of 2224 passengers and crew.  \n",
        ">While there was some element of luck involved in surviving, it seems some groups of people were more likely to survive than others.  \n",
        ">In this challenge, we ask you to **build a predictive model that answers the question: “what sorts of people were more likely to survive?”** using passenger data (ie name, age, gender, socio-economic class, etc).\n",
        "\n"
      ]
    },
    {
      "cell_type": "markdown",
      "metadata": {},
      "source": [
        "# Table of contents\n",
        "- Overview of the data\n",
        "- First model (quick and dirty)\n",
        "- Feature engineering (including Exploratory data analysis)"
      ]
    },
    {
      "cell_type": "markdown",
      "metadata": {},
      "source": [
        "# Imports"
      ]
    },
    {
      "cell_type": "code",
      "execution_count": 1,
      "metadata": {},
      "outputs": [],
      "source": [
        "import numpy as np\n",
        "import pandas as pd\n",
        "import matplotlib.pyplot as plt\n",
        "import seaborn as sns\n",
        "sns.set_theme()\n",
        "\n",
        "import warnings\n",
        "warnings.filterwarnings('ignore')\n"
      ]
    },
    {
      "cell_type": "markdown",
      "metadata": {
        "id": "vJ1xpVfjEvx6"
      },
      "source": [
        "# **Overview of the data**\n",
        "Here is a snippet to load the data, followed by a description of each column."
      ]
    },
    {
      "cell_type": "code",
      "execution_count": 2,
      "metadata": {
        "id": "Nyy1cvfYCnUp"
      },
      "outputs": [
        {
          "data": {
            "text/html": [
              "<div>\n",
              "<style scoped>\n",
              "    .dataframe tbody tr th:only-of-type {\n",
              "        vertical-align: middle;\n",
              "    }\n",
              "\n",
              "    .dataframe tbody tr th {\n",
              "        vertical-align: top;\n",
              "    }\n",
              "\n",
              "    .dataframe thead th {\n",
              "        text-align: right;\n",
              "    }\n",
              "</style>\n",
              "<table border=\"1\" class=\"dataframe\">\n",
              "  <thead>\n",
              "    <tr style=\"text-align: right;\">\n",
              "      <th></th>\n",
              "      <th>Survived</th>\n",
              "      <th>Pclass</th>\n",
              "      <th>Name</th>\n",
              "      <th>Sex</th>\n",
              "      <th>Age</th>\n",
              "      <th>SibSp</th>\n",
              "      <th>Parch</th>\n",
              "      <th>Ticket</th>\n",
              "      <th>Fare</th>\n",
              "      <th>Cabin</th>\n",
              "      <th>Embarked</th>\n",
              "    </tr>\n",
              "    <tr>\n",
              "      <th>PassengerId</th>\n",
              "      <th></th>\n",
              "      <th></th>\n",
              "      <th></th>\n",
              "      <th></th>\n",
              "      <th></th>\n",
              "      <th></th>\n",
              "      <th></th>\n",
              "      <th></th>\n",
              "      <th></th>\n",
              "      <th></th>\n",
              "      <th></th>\n",
              "    </tr>\n",
              "  </thead>\n",
              "  <tbody>\n",
              "    <tr>\n",
              "      <th>1</th>\n",
              "      <td>0</td>\n",
              "      <td>3</td>\n",
              "      <td>Braund, Mr. Owen Harris</td>\n",
              "      <td>male</td>\n",
              "      <td>22.0</td>\n",
              "      <td>1</td>\n",
              "      <td>0</td>\n",
              "      <td>A/5 21171</td>\n",
              "      <td>7.2500</td>\n",
              "      <td>NaN</td>\n",
              "      <td>S</td>\n",
              "    </tr>\n",
              "    <tr>\n",
              "      <th>2</th>\n",
              "      <td>1</td>\n",
              "      <td>1</td>\n",
              "      <td>Cumings, Mrs. John Bradley (Florence Briggs Th...</td>\n",
              "      <td>female</td>\n",
              "      <td>38.0</td>\n",
              "      <td>1</td>\n",
              "      <td>0</td>\n",
              "      <td>PC 17599</td>\n",
              "      <td>71.2833</td>\n",
              "      <td>C85</td>\n",
              "      <td>C</td>\n",
              "    </tr>\n",
              "    <tr>\n",
              "      <th>3</th>\n",
              "      <td>1</td>\n",
              "      <td>3</td>\n",
              "      <td>Heikkinen, Miss. Laina</td>\n",
              "      <td>female</td>\n",
              "      <td>26.0</td>\n",
              "      <td>0</td>\n",
              "      <td>0</td>\n",
              "      <td>STON/O2. 3101282</td>\n",
              "      <td>7.9250</td>\n",
              "      <td>NaN</td>\n",
              "      <td>S</td>\n",
              "    </tr>\n",
              "    <tr>\n",
              "      <th>4</th>\n",
              "      <td>1</td>\n",
              "      <td>1</td>\n",
              "      <td>Futrelle, Mrs. Jacques Heath (Lily May Peel)</td>\n",
              "      <td>female</td>\n",
              "      <td>35.0</td>\n",
              "      <td>1</td>\n",
              "      <td>0</td>\n",
              "      <td>113803</td>\n",
              "      <td>53.1000</td>\n",
              "      <td>C123</td>\n",
              "      <td>S</td>\n",
              "    </tr>\n",
              "    <tr>\n",
              "      <th>5</th>\n",
              "      <td>0</td>\n",
              "      <td>3</td>\n",
              "      <td>Allen, Mr. William Henry</td>\n",
              "      <td>male</td>\n",
              "      <td>35.0</td>\n",
              "      <td>0</td>\n",
              "      <td>0</td>\n",
              "      <td>373450</td>\n",
              "      <td>8.0500</td>\n",
              "      <td>NaN</td>\n",
              "      <td>S</td>\n",
              "    </tr>\n",
              "    <tr>\n",
              "      <th>6</th>\n",
              "      <td>0</td>\n",
              "      <td>3</td>\n",
              "      <td>Moran, Mr. James</td>\n",
              "      <td>male</td>\n",
              "      <td>NaN</td>\n",
              "      <td>0</td>\n",
              "      <td>0</td>\n",
              "      <td>330877</td>\n",
              "      <td>8.4583</td>\n",
              "      <td>NaN</td>\n",
              "      <td>Q</td>\n",
              "    </tr>\n",
              "    <tr>\n",
              "      <th>7</th>\n",
              "      <td>0</td>\n",
              "      <td>1</td>\n",
              "      <td>McCarthy, Mr. Timothy J</td>\n",
              "      <td>male</td>\n",
              "      <td>54.0</td>\n",
              "      <td>0</td>\n",
              "      <td>0</td>\n",
              "      <td>17463</td>\n",
              "      <td>51.8625</td>\n",
              "      <td>E46</td>\n",
              "      <td>S</td>\n",
              "    </tr>\n",
              "    <tr>\n",
              "      <th>8</th>\n",
              "      <td>0</td>\n",
              "      <td>3</td>\n",
              "      <td>Palsson, Master. Gosta Leonard</td>\n",
              "      <td>male</td>\n",
              "      <td>2.0</td>\n",
              "      <td>3</td>\n",
              "      <td>1</td>\n",
              "      <td>349909</td>\n",
              "      <td>21.0750</td>\n",
              "      <td>NaN</td>\n",
              "      <td>S</td>\n",
              "    </tr>\n",
              "    <tr>\n",
              "      <th>9</th>\n",
              "      <td>1</td>\n",
              "      <td>3</td>\n",
              "      <td>Johnson, Mrs. Oscar W (Elisabeth Vilhelmina Berg)</td>\n",
              "      <td>female</td>\n",
              "      <td>27.0</td>\n",
              "      <td>0</td>\n",
              "      <td>2</td>\n",
              "      <td>347742</td>\n",
              "      <td>11.1333</td>\n",
              "      <td>NaN</td>\n",
              "      <td>S</td>\n",
              "    </tr>\n",
              "    <tr>\n",
              "      <th>10</th>\n",
              "      <td>1</td>\n",
              "      <td>2</td>\n",
              "      <td>Nasser, Mrs. Nicholas (Adele Achem)</td>\n",
              "      <td>female</td>\n",
              "      <td>14.0</td>\n",
              "      <td>1</td>\n",
              "      <td>0</td>\n",
              "      <td>237736</td>\n",
              "      <td>30.0708</td>\n",
              "      <td>NaN</td>\n",
              "      <td>C</td>\n",
              "    </tr>\n",
              "  </tbody>\n",
              "</table>\n",
              "</div>"
            ],
            "text/plain": [
              "             Survived  Pclass  \\\n",
              "PassengerId                     \n",
              "1                   0       3   \n",
              "2                   1       1   \n",
              "3                   1       3   \n",
              "4                   1       1   \n",
              "5                   0       3   \n",
              "6                   0       3   \n",
              "7                   0       1   \n",
              "8                   0       3   \n",
              "9                   1       3   \n",
              "10                  1       2   \n",
              "\n",
              "                                                          Name     Sex   Age  \\\n",
              "PassengerId                                                                    \n",
              "1                                      Braund, Mr. Owen Harris    male  22.0   \n",
              "2            Cumings, Mrs. John Bradley (Florence Briggs Th...  female  38.0   \n",
              "3                                       Heikkinen, Miss. Laina  female  26.0   \n",
              "4                 Futrelle, Mrs. Jacques Heath (Lily May Peel)  female  35.0   \n",
              "5                                     Allen, Mr. William Henry    male  35.0   \n",
              "6                                             Moran, Mr. James    male   NaN   \n",
              "7                                      McCarthy, Mr. Timothy J    male  54.0   \n",
              "8                               Palsson, Master. Gosta Leonard    male   2.0   \n",
              "9            Johnson, Mrs. Oscar W (Elisabeth Vilhelmina Berg)  female  27.0   \n",
              "10                         Nasser, Mrs. Nicholas (Adele Achem)  female  14.0   \n",
              "\n",
              "             SibSp  Parch            Ticket     Fare Cabin Embarked  \n",
              "PassengerId                                                          \n",
              "1                1      0         A/5 21171   7.2500   NaN        S  \n",
              "2                1      0          PC 17599  71.2833   C85        C  \n",
              "3                0      0  STON/O2. 3101282   7.9250   NaN        S  \n",
              "4                1      0            113803  53.1000  C123        S  \n",
              "5                0      0            373450   8.0500   NaN        S  \n",
              "6                0      0            330877   8.4583   NaN        Q  \n",
              "7                0      0             17463  51.8625   E46        S  \n",
              "8                3      1            349909  21.0750   NaN        S  \n",
              "9                0      2            347742  11.1333   NaN        S  \n",
              "10               1      0            237736  30.0708   NaN        C  "
            ]
          },
          "execution_count": 2,
          "metadata": {},
          "output_type": "execute_result"
        }
      ],
      "source": [
        "df = pd.read_csv('titanic.csv', sep = ',')\n",
        "df.set_index('PassengerId', inplace = True, drop = True)\n",
        "df.head(10)"
      ]
    },
    {
      "cell_type": "markdown",
      "metadata": {},
      "source": [
        "\n",
        "* `PassengerId` is the unique id of the row and it doesn't have any effect on target\n",
        "* `Survived` is the target variable we are trying to predict (**0** or **1**):\n",
        "    - **1 = Survived**\n",
        "    - **0 = Not Survived**\n",
        "* `Pclass` (Passenger Class) is the socio-economic status of the passenger and it is a categorical ordinal feature which has **3** unique values (**1**,  **2 **or **3**):\n",
        "    - **1 = Upper Class**\n",
        "    - **2 = Middle Class**\n",
        "    - **3 = Lower Class**\n",
        "* `Name`, `Sex` and `Age` are self-explanatory\n",
        "* `SibSp` is the total number of the passengers' siblings and spouse\n",
        "* `Parch` is the total number of the passengers' parents and children\n",
        "* `Ticket` is the ticket number of the passenger\n",
        "* `Fare` is the passenger fare\n",
        "* `Cabin` is the cabin number of the passenger\n",
        "* `Embarked` is port of embarkation and it is a categorical feature which has **3** unique values (**C**, **Q** or **S**):\n",
        "    - **C = Cherbourg**\n",
        "    - **Q = Queenstown**\n",
        "    - **S = Southampton**"
      ]
    },
    {
      "cell_type": "markdown",
      "metadata": {},
      "source": [
        "Pandas's `.info()` let's you know data types and the count of non-empty values for each column:"
      ]
    },
    {
      "cell_type": "code",
      "execution_count": 3,
      "metadata": {
        "id": "A_pIDgj-ERSj"
      },
      "outputs": [
        {
          "name": "stdout",
          "output_type": "stream",
          "text": [
            "<class 'pandas.core.frame.DataFrame'>\n",
            "Index: 891 entries, 1 to 891\n",
            "Data columns (total 11 columns):\n",
            " #   Column    Non-Null Count  Dtype  \n",
            "---  ------    --------------  -----  \n",
            " 0   Survived  891 non-null    int64  \n",
            " 1   Pclass    891 non-null    int64  \n",
            " 2   Name      891 non-null    object \n",
            " 3   Sex       891 non-null    object \n",
            " 4   Age       714 non-null    float64\n",
            " 5   SibSp     891 non-null    int64  \n",
            " 6   Parch     891 non-null    int64  \n",
            " 7   Ticket    891 non-null    object \n",
            " 8   Fare      891 non-null    float64\n",
            " 9   Cabin     204 non-null    object \n",
            " 10  Embarked  889 non-null    object \n",
            "dtypes: float64(2), int64(4), object(5)\n",
            "memory usage: 83.5+ KB\n"
          ]
        }
      ],
      "source": [
        "df.info()"
      ]
    },
    {
      "cell_type": "markdown",
      "metadata": {
        "id": "Qi9Sq_I14mAI"
      },
      "source": [
        "The dataset has some null values that we will need to deal with. \n",
        "- You can get rid of rows with missing data by calling `.dropna()` on the dataframe.\n",
        "- You can fill in missing values with a given value using [`.fillna(value)`](https://pandas.pydata.org/docs/reference/api/pandas.DataFrame.fillna.html)."
      ]
    },
    {
      "cell_type": "markdown",
      "metadata": {
        "id": "wiyrlNY0GeDN"
      },
      "source": [
        "# Model zero: quick and dirty baseline\n",
        "\n",
        "A very important point in Machine Learning and Data Science is to rapidly build a first model that can serve as **baseline**. \n",
        "\n",
        "With the first model in place, then we can appreciate adding new features and use new algorithm and see effects on performances.\n",
        "\n",
        "We can see that at least `Fare`, `SibSp` and `Parch` are immidiately usable for modelling. In fact they are int/float and they don't have null values.\n",
        "\n",
        "Bellow is a little function that splits this data frame in the two parts used for training: input features `X` and target variable `y`."
      ]
    },
    {
      "cell_type": "markdown",
      "metadata": {},
      "source": [
        "<div class=\"alert alert-info exercise\" >\n",
        "\n",
        "#### 👉**Exercise** (5 min)\n",
        "\n",
        "**Complete** the function bellow to include the three variables mentioned above.\n",
        "\n",
        "\n",
        "</div>"
      ]
    },
    {
      "cell_type": "code",
      "execution_count": 4,
      "metadata": {
        "id": "WG3mgDlhE7UP"
      },
      "outputs": [],
      "source": [
        "def parse_data_for_model_0(df: pd.DataFrame) -> (pd.DataFrame, pd.Series):\n",
        "    #TODO complete the code bellow with the variable names\n",
        "    # input features\n",
        "    X = df[['Fare','SibSp','Parch']].copy()\n",
        "    # output variable\n",
        "    target = df.Survived.copy()\n",
        "    return X, target\n",
        "\n",
        "# NOTE: this function declaration includes types for the input argument df \n",
        "# (pd.DataFrame) and for the output arguments (X, target -> pd.DataFrame, pd.Series)\n",
        "# This is optional in python, but it's done here so that \n",
        "# data types of all arguments are clear for you."
      ]
    },
    {
      "cell_type": "markdown",
      "metadata": {},
      "source": [
        "Now we apply the function to `df` and check out the result:"
      ]
    },
    {
      "cell_type": "code",
      "execution_count": 5,
      "metadata": {
        "id": "13BjmGN2Gj62"
      },
      "outputs": [],
      "source": [
        "X, y = parse_data_for_model_0(df)"
      ]
    },
    {
      "cell_type": "code",
      "execution_count": 8,
      "metadata": {
        "id": "JTbypja_G9vS"
      },
      "outputs": [
        {
          "data": {
            "text/html": [
              "<div>\n",
              "<style scoped>\n",
              "    .dataframe tbody tr th:only-of-type {\n",
              "        vertical-align: middle;\n",
              "    }\n",
              "\n",
              "    .dataframe tbody tr th {\n",
              "        vertical-align: top;\n",
              "    }\n",
              "\n",
              "    .dataframe thead th {\n",
              "        text-align: right;\n",
              "    }\n",
              "</style>\n",
              "<table border=\"1\" class=\"dataframe\">\n",
              "  <thead>\n",
              "    <tr style=\"text-align: right;\">\n",
              "      <th></th>\n",
              "      <th>Fare</th>\n",
              "      <th>SibSp</th>\n",
              "      <th>Parch</th>\n",
              "    </tr>\n",
              "    <tr>\n",
              "      <th>PassengerId</th>\n",
              "      <th></th>\n",
              "      <th></th>\n",
              "      <th></th>\n",
              "    </tr>\n",
              "  </thead>\n",
              "  <tbody>\n",
              "    <tr>\n",
              "      <th>1</th>\n",
              "      <td>7.2500</td>\n",
              "      <td>1</td>\n",
              "      <td>0</td>\n",
              "    </tr>\n",
              "    <tr>\n",
              "      <th>2</th>\n",
              "      <td>71.2833</td>\n",
              "      <td>1</td>\n",
              "      <td>0</td>\n",
              "    </tr>\n",
              "    <tr>\n",
              "      <th>3</th>\n",
              "      <td>7.9250</td>\n",
              "      <td>0</td>\n",
              "      <td>0</td>\n",
              "    </tr>\n",
              "    <tr>\n",
              "      <th>4</th>\n",
              "      <td>53.1000</td>\n",
              "      <td>1</td>\n",
              "      <td>0</td>\n",
              "    </tr>\n",
              "    <tr>\n",
              "      <th>5</th>\n",
              "      <td>8.0500</td>\n",
              "      <td>0</td>\n",
              "      <td>0</td>\n",
              "    </tr>\n",
              "    <tr>\n",
              "      <th>6</th>\n",
              "      <td>8.4583</td>\n",
              "      <td>0</td>\n",
              "      <td>0</td>\n",
              "    </tr>\n",
              "    <tr>\n",
              "      <th>7</th>\n",
              "      <td>51.8625</td>\n",
              "      <td>0</td>\n",
              "      <td>0</td>\n",
              "    </tr>\n",
              "    <tr>\n",
              "      <th>8</th>\n",
              "      <td>21.0750</td>\n",
              "      <td>3</td>\n",
              "      <td>1</td>\n",
              "    </tr>\n",
              "    <tr>\n",
              "      <th>9</th>\n",
              "      <td>11.1333</td>\n",
              "      <td>0</td>\n",
              "      <td>2</td>\n",
              "    </tr>\n",
              "    <tr>\n",
              "      <th>10</th>\n",
              "      <td>30.0708</td>\n",
              "      <td>1</td>\n",
              "      <td>0</td>\n",
              "    </tr>\n",
              "  </tbody>\n",
              "</table>\n",
              "</div>"
            ],
            "text/plain": [
              "                Fare  SibSp  Parch\n",
              "PassengerId                       \n",
              "1             7.2500      1      0\n",
              "2            71.2833      1      0\n",
              "3             7.9250      0      0\n",
              "4            53.1000      1      0\n",
              "5             8.0500      0      0\n",
              "6             8.4583      0      0\n",
              "7            51.8625      0      0\n",
              "8            21.0750      3      1\n",
              "9            11.1333      0      2\n",
              "10           30.0708      1      0"
            ]
          },
          "execution_count": 8,
          "metadata": {},
          "output_type": "execute_result"
        }
      ],
      "source": [
        "X.head(10)"
      ]
    },
    {
      "cell_type": "markdown",
      "metadata": {
        "id": "JY-AQk-X5ttb"
      },
      "source": [
        "Now we have the data, fitting the model is straightforward."
      ]
    },
    {
      "cell_type": "markdown",
      "metadata": {},
      "source": [
        "\n",
        "However, we also need a  way to asses model performance.\n",
        "As mentioned in the lecture, when we have limited data points, it is better to use **cross validation**.\n",
        "You can do this easily with `sklearn`'s function `cross_val_score`."
      ]
    },
    {
      "cell_type": "code",
      "execution_count": 9,
      "metadata": {
        "id": "WHSK6bD3HD0u"
      },
      "outputs": [],
      "source": [
        "from sklearn.model_selection import cross_val_score\n",
        "\n",
        "def compute_score(estimator, X: pd.DataFrame, y: pd.Series) -> float:\n",
        "    xval = cross_val_score(estimator, X, y, cv = 5)\n",
        "    return np.mean(xval)"
      ]
    },
    {
      "cell_type": "code",
      "execution_count": 10,
      "metadata": {
        "id": "bHyxvkgTHRsi"
      },
      "outputs": [
        {
          "data": {
            "text/plain": [
              "0.6746092524009792"
            ]
          },
          "execution_count": 10,
          "metadata": {},
          "output_type": "execute_result"
        }
      ],
      "source": [
        "from sklearn.linear_model import LogisticRegression\n",
        "\n",
        "logisticRegression = LogisticRegression()\n",
        "\n",
        "compute_score(logisticRegression, X, y)"
      ]
    },
    {
      "cell_type": "markdown",
      "metadata": {},
      "source": [
        "This classification score reflects the model's prediction **accuracy**, that is, its rate of correct predictions."
      ]
    },
    {
      "cell_type": "markdown",
      "metadata": {
        "id": "YoNPecdnIp0j"
      },
      "source": [
        "# **Exploratory data analysis: EDA**\n",
        "\n",
        "EDA is a very important step to detect good features to add to a machine learning model. We will implement a method to plot feature distribution and we will do a simple EDA on a variable.\n",
        "\n",
        "You can re-use this method for the open ended part of the lab."
      ]
    },
    {
      "cell_type": "markdown",
      "metadata": {},
      "source": [
        "## Example: Observing distribution of `Pclass` variable, split by survival"
      ]
    },
    {
      "cell_type": "code",
      "execution_count": 11,
      "metadata": {},
      "outputs": [
        {
          "data": {
            "image/png": "[encoded data removed]",
            "text/plain": [
              "<Figure size 677.347x500 with 1 Axes>"
            ]
          },
          "metadata": {},
          "output_type": "display_data"
        }
      ],
      "source": [
        "import seaborn as sns\n",
        "\n",
        "sns.displot(data=df,\n",
        "            x='Pclass', \n",
        "            hue='Survived', \n",
        "            stat=\"probability\",\n",
        "            # bellow some args to make plot prettier\n",
        "            # can be removed/changed for other plots\n",
        "            multiple='dodge', \n",
        "            aspect=1.2)\n",
        "plt.gca().set_xticks([1,2,3],['Upper (1)', 'Middle (2)','Lower (3)']);"
      ]
    },
    {
      "cell_type": "markdown",
      "metadata": {},
      "source": [
        "In this double histogram, blue represents the non-surviving population, while red represents the surviving population."
      ]
    },
    {
      "cell_type": "markdown",
      "metadata": {
        "id": "bqIvp50_KwvY"
      },
      "source": [
        "<div class=\"alert\">\n",
        "\n",
        "#### ❓ **Question :** \n",
        "What conclusions can you draw from this graph ?\n",
        "\n",
        "</div>"
      ]
    },
    {
      "cell_type": "markdown",
      "metadata": {
        "id": "koqb_8GKK83D"
      },
      "source": [
        "**Answer here** :"
      ]
    },
    {
      "cell_type": "markdown",
      "metadata": {
        "id": "2Vawn-xHJzkZ"
      },
      "source": [
        "# Model 1: Including a new variable\n",
        "Since `Pclass` seemed related to survival changes, let's use this new variable in the model.\n",
        "\n",
        "Note that `Pclass` is a [categorical variable (🇫🇷 _variable catégorielle_)](https://datafranca.org/wiki/Caract%C3%A9ristique_cat%C3%A9gorielle). It can take one of three variables, corresponding to the three socio-economic classes:"
      ]
    },
    {
      "cell_type": "code",
      "execution_count": 12,
      "metadata": {},
      "outputs": [
        {
          "data": {
            "text/plain": [
              "array([3, 1, 2], dtype=int64)"
            ]
          },
          "execution_count": 12,
          "metadata": {},
          "output_type": "execute_result"
        }
      ],
      "source": [
        "df['Pclass'].unique()  # unique shows all unique values within the column"
      ]
    },
    {
      "cell_type": "markdown",
      "metadata": {},
      "source": [
        "To include this kind of variable in a linear model, it is better to encode each of the possible values in its own (binary) column. These new columns are called [**dummy variables** (🇫🇷 _variable factice_ )](https://datafranca.org/wiki/Variable_factice).\n",
        "\n",
        "In this case, `Pclass` generates three corresponding dummies. `pd.get_dummies` can do this process automatically for us:"
      ]
    },
    {
      "cell_type": "code",
      "execution_count": 13,
      "metadata": {},
      "outputs": [
        {
          "data": {
            "text/html": [
              "<div>\n",
              "<style scoped>\n",
              "    .dataframe tbody tr th:only-of-type {\n",
              "        vertical-align: middle;\n",
              "    }\n",
              "\n",
              "    .dataframe tbody tr th {\n",
              "        vertical-align: top;\n",
              "    }\n",
              "\n",
              "    .dataframe thead th {\n",
              "        text-align: right;\n",
              "    }\n",
              "</style>\n",
              "<table border=\"1\" class=\"dataframe\">\n",
              "  <thead>\n",
              "    <tr style=\"text-align: right;\">\n",
              "      <th></th>\n",
              "      <th>Pclass_1</th>\n",
              "      <th>Pclass_2</th>\n",
              "      <th>Pclass_3</th>\n",
              "    </tr>\n",
              "    <tr>\n",
              "      <th>PassengerId</th>\n",
              "      <th></th>\n",
              "      <th></th>\n",
              "      <th></th>\n",
              "    </tr>\n",
              "  </thead>\n",
              "  <tbody>\n",
              "    <tr>\n",
              "      <th>1</th>\n",
              "      <td>False</td>\n",
              "      <td>False</td>\n",
              "      <td>True</td>\n",
              "    </tr>\n",
              "    <tr>\n",
              "      <th>2</th>\n",
              "      <td>True</td>\n",
              "      <td>False</td>\n",
              "      <td>False</td>\n",
              "    </tr>\n",
              "    <tr>\n",
              "      <th>3</th>\n",
              "      <td>False</td>\n",
              "      <td>False</td>\n",
              "      <td>True</td>\n",
              "    </tr>\n",
              "    <tr>\n",
              "      <th>4</th>\n",
              "      <td>True</td>\n",
              "      <td>False</td>\n",
              "      <td>False</td>\n",
              "    </tr>\n",
              "    <tr>\n",
              "      <th>5</th>\n",
              "      <td>False</td>\n",
              "      <td>False</td>\n",
              "      <td>True</td>\n",
              "    </tr>\n",
              "    <tr>\n",
              "      <th>...</th>\n",
              "      <td>...</td>\n",
              "      <td>...</td>\n",
              "      <td>...</td>\n",
              "    </tr>\n",
              "    <tr>\n",
              "      <th>887</th>\n",
              "      <td>False</td>\n",
              "      <td>True</td>\n",
              "      <td>False</td>\n",
              "    </tr>\n",
              "    <tr>\n",
              "      <th>888</th>\n",
              "      <td>True</td>\n",
              "      <td>False</td>\n",
              "      <td>False</td>\n",
              "    </tr>\n",
              "    <tr>\n",
              "      <th>889</th>\n",
              "      <td>False</td>\n",
              "      <td>False</td>\n",
              "      <td>True</td>\n",
              "    </tr>\n",
              "    <tr>\n",
              "      <th>890</th>\n",
              "      <td>True</td>\n",
              "      <td>False</td>\n",
              "      <td>False</td>\n",
              "    </tr>\n",
              "    <tr>\n",
              "      <th>891</th>\n",
              "      <td>False</td>\n",
              "      <td>False</td>\n",
              "      <td>True</td>\n",
              "    </tr>\n",
              "  </tbody>\n",
              "</table>\n",
              "<p>891 rows × 3 columns</p>\n",
              "</div>"
            ],
            "text/plain": [
              "             Pclass_1  Pclass_2  Pclass_3\n",
              "PassengerId                              \n",
              "1               False     False      True\n",
              "2                True     False     False\n",
              "3               False     False      True\n",
              "4                True     False     False\n",
              "5               False     False      True\n",
              "...               ...       ...       ...\n",
              "887             False      True     False\n",
              "888              True     False     False\n",
              "889             False     False      True\n",
              "890              True     False     False\n",
              "891             False     False      True\n",
              "\n",
              "[891 rows x 3 columns]"
            ]
          },
          "execution_count": 13,
          "metadata": {},
          "output_type": "execute_result"
        }
      ],
      "source": [
        "pd.get_dummies(df['Pclass'], prefix = 'Pclass')"
      ]
    },
    {
      "cell_type": "markdown",
      "metadata": {},
      "source": [
        "Let's make a function that takes care of preparing the data for our next model:"
      ]
    },
    {
      "cell_type": "code",
      "execution_count": 14,
      "metadata": {},
      "outputs": [],
      "source": [
        "def parse_data_for_model_1(df):\n",
        "    # input features\n",
        "    X = df[['Fare', 'SibSp', 'Parch', 'Pclass']].copy()\n",
        "    # output variable\n",
        "    target = df.Survived.copy()\n",
        "    # NEW add dummy columns for Pclass\n",
        "    class_dummies = pd.get_dummies(X['Pclass'], prefix = 'Pclass')\n",
        "    X = X.join(class_dummies).copy()\n",
        "    # NEW Drop original column Pclass\n",
        "    X = X.drop(columns=['Pclass'])\n",
        "    return X, target\n"
      ]
    },
    {
      "cell_type": "code",
      "execution_count": 15,
      "metadata": {
        "id": "Jinoy-vQP5D6"
      },
      "outputs": [
        {
          "data": {
            "text/html": [
              "<div>\n",
              "<style scoped>\n",
              "    .dataframe tbody tr th:only-of-type {\n",
              "        vertical-align: middle;\n",
              "    }\n",
              "\n",
              "    .dataframe tbody tr th {\n",
              "        vertical-align: top;\n",
              "    }\n",
              "\n",
              "    .dataframe thead th {\n",
              "        text-align: right;\n",
              "    }\n",
              "</style>\n",
              "<table border=\"1\" class=\"dataframe\">\n",
              "  <thead>\n",
              "    <tr style=\"text-align: right;\">\n",
              "      <th></th>\n",
              "      <th>Fare</th>\n",
              "      <th>SibSp</th>\n",
              "      <th>Parch</th>\n",
              "      <th>Pclass_1</th>\n",
              "      <th>Pclass_2</th>\n",
              "      <th>Pclass_3</th>\n",
              "    </tr>\n",
              "    <tr>\n",
              "      <th>PassengerId</th>\n",
              "      <th></th>\n",
              "      <th></th>\n",
              "      <th></th>\n",
              "      <th></th>\n",
              "      <th></th>\n",
              "      <th></th>\n",
              "    </tr>\n",
              "  </thead>\n",
              "  <tbody>\n",
              "    <tr>\n",
              "      <th>1</th>\n",
              "      <td>7.2500</td>\n",
              "      <td>1</td>\n",
              "      <td>0</td>\n",
              "      <td>False</td>\n",
              "      <td>False</td>\n",
              "      <td>True</td>\n",
              "    </tr>\n",
              "    <tr>\n",
              "      <th>2</th>\n",
              "      <td>71.2833</td>\n",
              "      <td>1</td>\n",
              "      <td>0</td>\n",
              "      <td>True</td>\n",
              "      <td>False</td>\n",
              "      <td>False</td>\n",
              "    </tr>\n",
              "    <tr>\n",
              "      <th>3</th>\n",
              "      <td>7.9250</td>\n",
              "      <td>0</td>\n",
              "      <td>0</td>\n",
              "      <td>False</td>\n",
              "      <td>False</td>\n",
              "      <td>True</td>\n",
              "    </tr>\n",
              "    <tr>\n",
              "      <th>4</th>\n",
              "      <td>53.1000</td>\n",
              "      <td>1</td>\n",
              "      <td>0</td>\n",
              "      <td>True</td>\n",
              "      <td>False</td>\n",
              "      <td>False</td>\n",
              "    </tr>\n",
              "    <tr>\n",
              "      <th>5</th>\n",
              "      <td>8.0500</td>\n",
              "      <td>0</td>\n",
              "      <td>0</td>\n",
              "      <td>False</td>\n",
              "      <td>False</td>\n",
              "      <td>True</td>\n",
              "    </tr>\n",
              "    <tr>\n",
              "      <th>6</th>\n",
              "      <td>8.4583</td>\n",
              "      <td>0</td>\n",
              "      <td>0</td>\n",
              "      <td>False</td>\n",
              "      <td>False</td>\n",
              "      <td>True</td>\n",
              "    </tr>\n",
              "    <tr>\n",
              "      <th>7</th>\n",
              "      <td>51.8625</td>\n",
              "      <td>0</td>\n",
              "      <td>0</td>\n",
              "      <td>True</td>\n",
              "      <td>False</td>\n",
              "      <td>False</td>\n",
              "    </tr>\n",
              "    <tr>\n",
              "      <th>8</th>\n",
              "      <td>21.0750</td>\n",
              "      <td>3</td>\n",
              "      <td>1</td>\n",
              "      <td>False</td>\n",
              "      <td>False</td>\n",
              "      <td>True</td>\n",
              "    </tr>\n",
              "    <tr>\n",
              "      <th>9</th>\n",
              "      <td>11.1333</td>\n",
              "      <td>0</td>\n",
              "      <td>2</td>\n",
              "      <td>False</td>\n",
              "      <td>False</td>\n",
              "      <td>True</td>\n",
              "    </tr>\n",
              "    <tr>\n",
              "      <th>10</th>\n",
              "      <td>30.0708</td>\n",
              "      <td>1</td>\n",
              "      <td>0</td>\n",
              "      <td>False</td>\n",
              "      <td>True</td>\n",
              "      <td>False</td>\n",
              "    </tr>\n",
              "  </tbody>\n",
              "</table>\n",
              "</div>"
            ],
            "text/plain": [
              "                Fare  SibSp  Parch  Pclass_1  Pclass_2  Pclass_3\n",
              "PassengerId                                                     \n",
              "1             7.2500      1      0     False     False      True\n",
              "2            71.2833      1      0      True     False     False\n",
              "3             7.9250      0      0     False     False      True\n",
              "4            53.1000      1      0      True     False     False\n",
              "5             8.0500      0      0     False     False      True\n",
              "6             8.4583      0      0     False     False      True\n",
              "7            51.8625      0      0      True     False     False\n",
              "8            21.0750      3      1     False     False      True\n",
              "9            11.1333      0      2     False     False      True\n",
              "10           30.0708      1      0     False      True     False"
            ]
          },
          "execution_count": 15,
          "metadata": {},
          "output_type": "execute_result"
        }
      ],
      "source": [
        "X, y = parse_data_for_model_1(df.copy())\n",
        "X.head(10)"
      ]
    },
    {
      "cell_type": "markdown",
      "metadata": {},
      "source": [
        "<div class=\"alert alert-info exercise\" >\n",
        "\n",
        "#### 👉**Exercise** (5 min)\n",
        "\n",
        "Train and evaluate this new model using cross-validation, like done for the baseline model.\n",
        "\n",
        "Compare the score of this model with the previous one? Is it better or worse?\n",
        "</div>"
      ]
    },
    {
      "cell_type": "code",
      "execution_count": 108,
      "metadata": {},
      "outputs": [],
      "source": [
        "# TODO Your code here"
      ]
    },
    {
      "cell_type": "markdown",
      "metadata": {
        "id": "F8uqNiW8R3Cv"
      },
      "source": [
        "## Visualize and interpret feature weights\n",
        "\n",
        "Logistic regression is a linear model, in which each variable is pondered by a coefficient. Let's fit an individual model to our data so we can examine the coefficient values:"
      ]
    },
    {
      "cell_type": "code",
      "execution_count": 39,
      "metadata": {
        "id": "l7cpjs53RutQ"
      },
      "outputs": [
        {
          "name": "stdout",
          "output_type": "stream",
          "text": [
            "[[ 0.00675618 -0.15072925  0.23372253  0.37803728  0.10814039 -0.84382307]]\n"
          ]
        }
      ],
      "source": [
        "logisticRegression = LogisticRegression()\n",
        "logisticRegression.fit(X, y)\n",
        "print(logisticRegression.coef_)"
      ]
    },
    {
      "cell_type": "markdown",
      "metadata": {},
      "source": [
        "Using the column names from `X`, we can even visualise these in a table or plot."
      ]
    },
    {
      "cell_type": "markdown",
      "metadata": {
        "id": "t8mRHms3CfC2"
      },
      "source": [
        "Let's implement a method to plot feature weights in case of Logistic Regression"
      ]
    },
    {
      "cell_type": "code",
      "execution_count": 45,
      "metadata": {
        "id": "Ydq5DzT_SBmn"
      },
      "outputs": [
        {
          "name": "stdout",
          "output_type": "stream",
          "text": [
            "{\n",
            "  \"Fare\": 0.006756177054693814,\n",
            "  \"SibSp\": -0.15072925216499858,\n",
            "  \"Parch\": 0.2337225258359938,\n",
            "  \"Pclass_1\": 0.37803727531456505,\n",
            "  \"Pclass_2\": 0.10814038815253313,\n",
            "  \"Pclass_3\": -0.8438230719738237\n",
            "}\n"
          ]
        },
        {
          "data": {
            "image/png": "[encoded data removed]",
            "text/plain": [
              "<Figure size 640x480 with 1 Axes>"
            ]
          },
          "metadata": {},
          "output_type": "display_data"
        }
      ],
      "source": [
        "import json\n",
        "\n",
        "def plot_var_weights_logistic_regression(X, y):\n",
        "  lr = LogisticRegression()\n",
        "  lr.fit(X, y)\n",
        "\n",
        "  columns = np.array(X.columns)\n",
        "  weights = np.array(lr.coef_[0])\n",
        "\n",
        "  # weights dictonary sorted by absolute value\n",
        "  weights_dict = dict(zip(columns, weights))\n",
        "  print(json.dumps(weights_dict, indent = 2))\n",
        "\n",
        "  # plot the weights\n",
        "  plt.bar(columns, weights)\n",
        "  plt.title('Feature importances')\n",
        "  plt.show()\n",
        "\n",
        "plot_var_weights_logistic_regression(X, y)"
      ]
    },
    {
      "cell_type": "markdown",
      "metadata": {
        "id": "aj41EblzVT5Y"
      },
      "source": [
        "These weghts help us interpret how each variable influences the model's decision.\n",
        "\n",
        "**Interpretation of weights in Linear Models**\n",
        "\n",
        "\n",
        "*   A positive weight increases the probability of `target` = 1 (survived)\n",
        "*   A negative weight decreases the probability of surviving\n",
        "*   When a weight is close to zero, it means that the correspond feature doesn't influence the predictio\n",
        "\n",
        "**Conclusion for our model**\n",
        "`Pclass_1` and `Pclass_3` seem very important in our model in comparison to `Pclass_2`. It shows also that Fare is not important for our prediction using a linear model.\n",
        "\n",
        "<br>\n",
        "\n",
        "Let's continue with other variables"
      ]
    },
    {
      "cell_type": "markdown",
      "metadata": {
        "id": "DEH0rjzmZj3Y"
      },
      "source": [
        "# **Children and women first !** (more EDA + models 2 and 3)\n",
        "\n",
        "The history of the titanic reports that they were different rescue policies led by officer Charles Lightholler and officer William Murdoch. They didn't have the same interpretation of \"children and women first\". \n",
        "\n",
        "In fact, Murdoch, starboard side, was giving the priority but not the exclusivity to children and women. He let men onboard the rescue boats to fill the boards instead of waiting for the arrival of additional children and women.\n",
        "\n",
        "On the other side, Lightholler, refused all men and prefered waiting for children and women to fill the lifeboats. Unfortunately, this second strategy was not optimal as they were only 500 children and women but they were 1200 seats on the rescue boats...\n",
        "\n",
        "\n"
      ]
    },
    {
      "cell_type": "markdown",
      "metadata": {},
      "source": [
        "# Model 2: considering `Sex` and `Age`"
      ]
    },
    {
      "cell_type": "markdown",
      "metadata": {
        "id": "v83SW3uClH3N"
      },
      "source": [
        "<div class=\"alert alert-info exercise\" >\n",
        "\n",
        "#### 👉 **Exercise** (20 min)\n",
        "1. Do statistics on `Sex` and `Age` features and then include them in a LogisticRegression model. \n",
        "  - Plot histograms for both variables using `sns.displot`. \n",
        "  - Complete the function `parse_data_for_model_2` to build the input data for your model.\n",
        "  - `Sex` is again a categorical variable. Prepare it to usage in the model by creating corresponding **dummy variables**.\n",
        "2. Have a look at the score and feature importances, then interpret the results.\n",
        "\n",
        "Note : The `Age` variable has missing values, at this stage you can just fill null values with the median age by calling `.fillna('median')`\n",
        "\n",
        "</div>"
      ]
    },
    {
      "cell_type": "code",
      "execution_count": null,
      "metadata": {},
      "outputs": [],
      "source": [
        "# TODO Histogram of Age"
      ]
    },
    {
      "cell_type": "code",
      "execution_count": null,
      "metadata": {},
      "outputs": [],
      "source": [
        "# TODO Histogram of Sex"
      ]
    },
    {
      "cell_type": "code",
      "execution_count": null,
      "metadata": {
        "id": "TsLM3O_0SQR0"
      },
      "outputs": [],
      "source": [
        "#### TODO YOUR CODE HERE ####\n",
        "def parse_data_for_model_2(df):\n",
        "    #TODO complete with the variables for this model\n",
        "    # input features \n",
        "    X = df[[...]]\n",
        "    # create dummy variables for Sex\n",
        "    dummies = pd.get_dummies(...)\n",
        "    # add variables to X, then remove the original variable\n",
        "    X = X.join(dummies)\n",
        "    X = X.drop(columns=['Sex'])\n",
        "    # Fill missing values for Age\n",
        "    X['Age'] = X['Age'].fillna(np.nanmedian(X['Age']))\n",
        "    # target variable\n",
        "    y = df.Survived\n",
        "    return X, y"
      ]
    },
    {
      "cell_type": "code",
      "execution_count": null,
      "metadata": {},
      "outputs": [],
      "source": [
        "# TODO Complete the code\n",
        "# create the estimator and compute the score\n",
        "X, y = ...\n",
        "estimator = ...\n",
        "score = compute_score(...)\n",
        "print('score:', score)\n",
        "\n",
        "# Plot feature importance with plot var weights ...\n",
        "plot_var_weights_logistic_regression(...)"
      ]
    },
    {
      "cell_type": "markdown",
      "metadata": {},
      "source": [
        "<div class=\"alert\">\n",
        "\n",
        "#### ❓ **Question**\n",
        "What do the feature importances tell you? Did `Age` help predict survival? Did `Sex` help predict survival?\n",
        "\n",
        "</div>"
      ]
    },
    {
      "cell_type": "markdown",
      "metadata": {
        "id": "CAmAf72lluG2"
      },
      "source": [
        "<div class=\"alert alert-info exercise\" >\n",
        "\n",
        "#### 👉 **Exercise** (10 min)\n",
        "\n",
        "Based on the histogram for `Age`, define a new feature `is_child` when `Age` is less than some threshold. \n",
        "Then create a third model including this variable. \n",
        "**Does it improve the model's score ?**\n",
        "</div>"
      ]
    },
    {
      "cell_type": "code",
      "execution_count": null,
      "metadata": {
        "id": "uQYnWBbRliCC"
      },
      "outputs": [],
      "source": [
        "#### CODE HERE ####\n",
        "def parse_data_for_model_3(df):\n",
        "    #TODO Complete the function\n",
        "    # input features \n",
        "    X = df[[...]]\n",
        "    # create dummy variables for Sex\n",
        "    dummies = pd.get_dummies(...)\n",
        "    # add variables to X, then remove the original variable\n",
        "    X = X.join(dummies)\n",
        "    X = X.drop(columns=['Sex'])\n",
        "    # Fill missing values for Age\n",
        "    X['Age'] = X['Age'].fillna(np.nanmedian(X['Age']))\n",
        "    #TODO New variable is_child\n",
        "    threshold = ...\n",
        "    X['is_child'] = X['Age'] < threshold\n",
        "    # target variable\n",
        "    y = df.Survived\n",
        "    return X, y\n",
        "\n",
        "\n",
        "# Train and evaluate model\n",
        "X, y = ...\n",
        "estimator = ...\n",
        "compute_score(...)\n",
        "\n",
        "# Plot feature importances\n",
        "plot_var_weights_logistic_regression(...)"
      ]
    },
    {
      "cell_type": "markdown",
      "metadata": {},
      "source": [
        "<div class=\"alert\">\n",
        "\n",
        "#### ❓ **Question**\n",
        "What do the feature importances tell you? Did `is_child` help predict survival better than `Age`? \n",
        "\n",
        "</div>"
      ]
    },
    {
      "cell_type": "markdown",
      "metadata": {},
      "source": [
        "# **Extra: Non-linear models** (with random forests)\n",
        "What we just did with the new feature `is_child` is add non-linear dependency that a linear model like Logistic Regression can't capture without our help.\n",
        "\n",
        "Let's try non-linear models. **However, remember that creating new features manually is still the best method to get the best results and performances out of models.**"
      ]
    },
    {
      "cell_type": "markdown",
      "metadata": {
        "id": "H2zYypuPmQlN"
      },
      "source": [
        "<div class=\"alert alert-info exercise\" >\n",
        "\n",
        "#### 👉 **Exercise : Random Forest to the rescue**\n",
        "\n",
        "Use a Random Forest classifier with the features we defined above but do not use `is_child` yet.\n",
        "\n",
        "</div>"
      ]
    },
    {
      "cell_type": "code",
      "execution_count": 51,
      "metadata": {
        "id": "8H5bSx37mP0D"
      },
      "outputs": [],
      "source": [
        "from sklearn.ensemble import RandomForestClassifier"
      ]
    },
    {
      "cell_type": "code",
      "execution_count": null,
      "metadata": {},
      "outputs": [],
      "source": [
        "#### TODO CODE HERE ####\n",
        "estimator = RandomForestClassifier()\n",
        "\n",
        "X, y = ...\n",
        "compute_score(...)\n"
      ]
    },
    {
      "cell_type": "markdown",
      "metadata": {
        "id": "6tHpxu0OrWH2"
      },
      "source": [
        "As you may know, when using Decision Trees, we no longer have the weights of variables which is not ideal and hurts our model's interpretability.\n",
        "\n",
        "However we can use a feature importance method that comes with Random Forest classifiers in `sklearn`. It computes the relative importance of features. This method should be added to your toolbox, it will allow you to somewhat interpret the results of your Random Forest. \n",
        "\n",
        "<div class='alert alert-success'>\n",
        "\n",
        "💡 You can check the result of this method in the variable `.feature_importances_` of your `estimator`, once you have trained it. The names of the features can be seen in `X.columns`.\n",
        "\n",
        "</div>\n"
      ]
    },
    {
      "cell_type": "markdown",
      "metadata": {},
      "source": [
        "\n",
        "<div class=\"alert alert-info exercise\" >\n",
        "\n",
        "#### 👉 **Exercise**\n",
        "\n",
        "Compute feature importances of your Random Classifier model and interpret the results. How does it compare to the linear model ? Do both models select the same features as important ? Why ?\n",
        "\n",
        "You can find documentation here https://mljar.com/blog/feature-importance-in-random-forest/\n",
        "\n",
        "</div>"
      ]
    },
    {
      "cell_type": "code",
      "execution_count": null,
      "metadata": {
        "id": "TwRiBhABnMwG"
      },
      "outputs": [],
      "source": [
        "#### TODO YOUR CODE HERE ####\n",
        "\n",
        "# Create estimator\n",
        "estimator= ...\n",
        "# Train on the input data with fit\n",
        "estimator...\n",
        "\n",
        "# Show feature importances on a nice barplot with sns:\n",
        "sns.barplot(x=X.columns, y=estimator.feature_importances_)"
      ]
    },
    {
      "cell_type": "markdown",
      "metadata": {},
      "source": [
        "<div class=\"alert\">\n",
        "\n",
        "#### ❓ **Question**\n",
        "What do the feature importances tell you? Was `RandomForest` able to take `Age` into account better than `LinearRegression`? Do you think adding the `is_child` variable is necessary now?\n",
        "\n",
        "</div>"
      ]
    },
    {
      "cell_type": "markdown",
      "metadata": {
        "id": "1CEkUVsZyow3"
      },
      "source": [
        "<div class=\"alert alert-info exercise\">\n",
        "\n",
        "#### 👉 **Open ended exercise**\n",
        "\n",
        "Use other variables using techniques presented here and some creativity on existing variables.\n",
        "\n",
        "Do EDA on variables to argument your choices, use plots, correlation etc...\n",
        "\n",
        "</div>"
      ]
    },
    {
      "cell_type": "code",
      "execution_count": null,
      "metadata": {
        "id": "RXvrrmrMtQm_"
      },
      "outputs": [],
      "source": [
        "#### CODE HERE ####\n"
      ]
    }
  ],
  "metadata": {
    "colab": {
      "name": "lab2 Feature engineering .ipynb",
      "provenance": []
    },
    "kernelspec": {
      "display_name": "Python 3",
      "name": "python3"
    },
    "language_info": {
      "codemirror_mode": {
        "name": "ipython",
        "version": 3
      },
      "file_extension": ".py",
      "mimetype": "text/x-python",
      "name": "python",
      "nbconvert_exporter": "python",
      "pygments_lexer": "ipython3",
      "version": "3.11.9"
    }
  },
  "nbformat": 4,
  "nbformat_minor": 0
}
